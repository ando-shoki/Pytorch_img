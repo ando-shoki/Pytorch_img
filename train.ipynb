{
 "cells": [
  {
   "cell_type": "code",
   "execution_count": 1,
   "metadata": {
    "colab": {
     "base_uri": "https://localhost:8080/",
     "height": 1000
    },
    "colab_type": "code",
    "id": "TUn9ZYhQpOnA",
    "outputId": "8c8db127-a834-4993-e142-5867ad8c695b"
   },
   "outputs": [],
   "source": [
    "#モジュールのインポート\n",
    "import random, yaml\n",
    "import torch, torchvision\n",
    "import numpy as np\n",
    "import torch.nn as nn\n",
    "import torch.optim as optim\n",
    "\n",
    "from tqdm import tqdm\n",
    "from random import seed, sample\n",
    "from sklearn.metrics import classification_report\n",
    "from torchvision import datasets, models, transforms\n",
    "from utils.utils import *\n",
    "from utils.models import finetune_alexnet, finetune_resnet18"
   ]
  },
  {
   "cell_type": "markdown",
   "metadata": {},
   "source": [
    "### 学習関数の実装"
   ]
  },
  {
   "cell_type": "code",
   "execution_count": 19,
   "metadata": {
    "colab": {
     "base_uri": "https://localhost:8080/",
     "height": 1000
    },
    "colab_type": "code",
    "id": "TUn9ZYhQpOnA",
    "outputId": "8c8db127-a834-4993-e142-5867ad8c695b"
   },
   "outputs": [],
   "source": [
    "def do_train(net, dataloaders_dict, criterion, optimizer, num_epochs):\n",
    "\n",
    "    # 初期設定\n",
    "    # GPUが使えるかを確認\n",
    "    device = \"cuda\" if torch.cuda.is_available() else \"cpu\"\n",
    "    print(\"使用デバイス：\", device)\n",
    "\n",
    "    # ネットワークをGPUへ\n",
    "    net = net.to(device)\n",
    "    if device == 'cuda':\n",
    "        net = torch.nn.DataParallel(net) # make parallel\n",
    "\n",
    "    # ネットワークがある程度固定であれば、高速化させる\n",
    "    torch.backends.cudnn.benchmark = True\n",
    "    \n",
    "    # 学習結果を保存するlist\n",
    "    train_loss_list, train_acc_list =  [], []\n",
    "    val_loss_list, val_acc_list =  [], []\n",
    "    # epochのループ\n",
    "    for epoch in range(num_epochs):\n",
    "        print('Epoch {}/{}'.format(epoch+1, num_epochs))\n",
    "        print('-------------')\n",
    "\n",
    "        # epochごとの訓練と検証のループ\n",
    "        for phase in ['train', 'val']:\n",
    "            if phase == 'train':\n",
    "                net.train() # モデルを学習モードに\n",
    "            else:\n",
    "                net.eval()   # モデルを検証モードに\n",
    "\n",
    "            epoch_loss = 0.0  # epochの損失和\n",
    "            epoch_acc = 0  # epochの正解数\n",
    "\n",
    "            # 未学習時の検証性能を確かめるため、epoch=0の訓練は省略\n",
    "            if (epoch == 0) and (phase == 'train'):\n",
    "                continue\n",
    "\n",
    "            # データローダーからミニバッチを取り出すループ\n",
    "            for inputs, labels in tqdm(dataloaders_dict[phase]):\n",
    "\n",
    "                # GPUが使えるならGPUにデータを送る\n",
    "                inputs = inputs.to(device)\n",
    "                labels = labels.to(device)\n",
    "\n",
    "                # optimizerを初期化\n",
    "                optimizer.zero_grad()\n",
    "                \n",
    "                # Test-Time Augmentation\n",
    "                # img : (batch_size*crop_num, channel, height, width)\n",
    "                \n",
    "                if phase == 'val':\n",
    "                    batch_size, crop_num, c, h, w = inputs.size()\n",
    "                    inputs = inputs.view(-1, c, h, w)\n",
    "                \n",
    "\n",
    "                # 順伝搬（forward）計算\n",
    "                with torch.set_grad_enabled(phase == 'train'):\n",
    "                    outputs = net(inputs)\n",
    "                    # Test-Time Augmentation\n",
    "                    # crop_numで平均化\n",
    "                    if phase == 'val':\n",
    "                        outputs = outputs.view(batch_size, crop_num, -1).mean(1)        \n",
    "                    loss = criterion(outputs, labels)  # 損失を計算\n",
    "                    _, preds = torch.max(outputs, 1)  # ラベルを予測\n",
    "\n",
    "                    # 訓練時はバックプロパゲーション\n",
    "                    if phase == 'train':\n",
    "                        loss.backward()\n",
    "                        optimizer.step()\n",
    "\n",
    "                    # 結果の計算\n",
    "                    epoch_loss += loss.item() * inputs.size(0)  # lossの合計を更新\n",
    "                    # 正解数の合計を更新\n",
    "                    epoch_acc += sum(preds == labels.data).item()\n",
    "\n",
    "            # epochごとのlossと正解率を表示\n",
    "            epoch_loss = epoch_loss / len(dataloaders_dict[phase].dataset)\n",
    "            epoch_acc = epoch_acc / len(dataloaders_dict[phase].dataset)\n",
    "            \n",
    "            # 学習結果を保存\n",
    "            if phase == 'train':\n",
    "                train_loss_list.append(epoch_loss), train_acc_list.append(epoch_acc)\n",
    "            else:\n",
    "                val_loss_list.append(epoch_loss), val_acc_list.append(epoch_acc)\n",
    "                \n",
    "            \n",
    "            print('{} Loss: {:.4f} Acc: {:.4f}'.format(\n",
    "                phase, epoch_loss, epoch_acc))\n",
    "\n",
    "    # PyTorchのネットワークパラメータの保存\n",
    "    save_path = config[\"MODEL\"][\"SAVE_WEIGHT\"]\n",
    "    torch.save(net.state_dict(), save_path)\n",
    "    \n",
    "    return train_loss_list, train_acc_list, val_loss_list, val_acc_list"
   ]
  },
  {
   "cell_type": "markdown",
   "metadata": {},
   "source": [
    "### 学習の実行"
   ]
  },
  {
   "cell_type": "code",
   "execution_count": 20,
   "metadata": {
    "scrolled": true
   },
   "outputs": [
    {
     "name": "stderr",
     "output_type": "stream",
     "text": [
      "\r",
      "  0%|          | 0/1 [00:00<?, ?it/s]"
     ]
    },
    {
     "name": "stdout",
     "output_type": "stream",
     "text": [
      "学習済みのパラメータをロードし、訓練モードに設定完了\n",
      "学習しない： conv1.weight\n",
      "fine_tuning設定完了\n",
      "学習しない： bn1.weight\n",
      "fine_tuning設定完了\n",
      "学習しない： bn1.bias\n",
      "fine_tuning設定完了\n",
      "params_to_update_1に格納： layer1.0.conv1.weight\n",
      "fine_tuning設定完了\n",
      "params_to_update_1に格納： layer1.0.bn1.weight\n",
      "fine_tuning設定完了\n",
      "params_to_update_1に格納： layer1.0.bn1.bias\n",
      "fine_tuning設定完了\n",
      "params_to_update_1に格納： layer1.0.conv2.weight\n",
      "fine_tuning設定完了\n",
      "params_to_update_1に格納： layer1.0.bn2.weight\n",
      "fine_tuning設定完了\n",
      "params_to_update_1に格納： layer1.0.bn2.bias\n",
      "fine_tuning設定完了\n",
      "学習しない： layer1.1.conv1.weight\n",
      "fine_tuning設定完了\n",
      "学習しない： layer1.1.bn1.weight\n",
      "fine_tuning設定完了\n",
      "学習しない： layer1.1.bn1.bias\n",
      "fine_tuning設定完了\n",
      "学習しない： layer1.1.conv2.weight\n",
      "fine_tuning設定完了\n",
      "学習しない： layer1.1.bn2.weight\n",
      "fine_tuning設定完了\n",
      "学習しない： layer1.1.bn2.bias\n",
      "fine_tuning設定完了\n",
      "学習しない： layer2.0.conv1.weight\n",
      "fine_tuning設定完了\n",
      "学習しない： layer2.0.bn1.weight\n",
      "fine_tuning設定完了\n",
      "学習しない： layer2.0.bn1.bias\n",
      "fine_tuning設定完了\n",
      "学習しない： layer2.0.conv2.weight\n",
      "fine_tuning設定完了\n",
      "学習しない： layer2.0.bn2.weight\n",
      "fine_tuning設定完了\n",
      "学習しない： layer2.0.bn2.bias\n",
      "fine_tuning設定完了\n",
      "学習しない： layer2.0.downsample.0.weight\n",
      "fine_tuning設定完了\n",
      "学習しない： layer2.0.downsample.1.weight\n",
      "fine_tuning設定完了\n",
      "学習しない： layer2.0.downsample.1.bias\n",
      "fine_tuning設定完了\n",
      "学習しない： layer2.1.conv1.weight\n",
      "fine_tuning設定完了\n",
      "学習しない： layer2.1.bn1.weight\n",
      "fine_tuning設定完了\n",
      "学習しない： layer2.1.bn1.bias\n",
      "fine_tuning設定完了\n",
      "学習しない： layer2.1.conv2.weight\n",
      "fine_tuning設定完了\n",
      "学習しない： layer2.1.bn2.weight\n",
      "fine_tuning設定完了\n",
      "学習しない： layer2.1.bn2.bias\n",
      "fine_tuning設定完了\n",
      "学習しない： layer3.0.conv1.weight\n",
      "fine_tuning設定完了\n",
      "学習しない： layer3.0.bn1.weight\n",
      "fine_tuning設定完了\n",
      "学習しない： layer3.0.bn1.bias\n",
      "fine_tuning設定完了\n",
      "学習しない： layer3.0.conv2.weight\n",
      "fine_tuning設定完了\n",
      "学習しない： layer3.0.bn2.weight\n",
      "fine_tuning設定完了\n",
      "学習しない： layer3.0.bn2.bias\n",
      "fine_tuning設定完了\n",
      "学習しない： layer3.0.downsample.0.weight\n",
      "fine_tuning設定完了\n",
      "学習しない： layer3.0.downsample.1.weight\n",
      "fine_tuning設定完了\n",
      "学習しない： layer3.0.downsample.1.bias\n",
      "fine_tuning設定完了\n",
      "学習しない： layer3.1.conv1.weight\n",
      "fine_tuning設定完了\n",
      "学習しない： layer3.1.bn1.weight\n",
      "fine_tuning設定完了\n",
      "学習しない： layer3.1.bn1.bias\n",
      "fine_tuning設定完了\n",
      "学習しない： layer3.1.conv2.weight\n",
      "fine_tuning設定完了\n",
      "学習しない： layer3.1.bn2.weight\n",
      "fine_tuning設定完了\n",
      "学習しない： layer3.1.bn2.bias\n",
      "fine_tuning設定完了\n",
      "学習しない： layer4.0.conv1.weight\n",
      "fine_tuning設定完了\n",
      "学習しない： layer4.0.bn1.weight\n",
      "fine_tuning設定完了\n",
      "学習しない： layer4.0.bn1.bias\n",
      "fine_tuning設定完了\n",
      "学習しない： layer4.0.conv2.weight\n",
      "fine_tuning設定完了\n",
      "学習しない： layer4.0.bn2.weight\n",
      "fine_tuning設定完了\n",
      "学習しない： layer4.0.bn2.bias\n",
      "fine_tuning設定完了\n",
      "学習しない： layer4.0.downsample.0.weight\n",
      "fine_tuning設定完了\n",
      "学習しない： layer4.0.downsample.1.weight\n",
      "fine_tuning設定完了\n",
      "学習しない： layer4.0.downsample.1.bias\n",
      "fine_tuning設定完了\n",
      "学習しない： layer4.1.conv1.weight\n",
      "fine_tuning設定完了\n",
      "学習しない： layer4.1.bn1.weight\n",
      "fine_tuning設定完了\n",
      "学習しない： layer4.1.bn1.bias\n",
      "fine_tuning設定完了\n",
      "学習しない： layer4.1.conv2.weight\n",
      "fine_tuning設定完了\n",
      "学習しない： layer4.1.bn2.weight\n",
      "fine_tuning設定完了\n",
      "学習しない： layer4.1.bn2.bias\n",
      "fine_tuning設定完了\n",
      "学習しない： fc.weight\n",
      "fine_tuning設定完了\n",
      "学習しない： fc.bias\n",
      "fine_tuning設定完了\n",
      "使用デバイス： cpu\n",
      "Epoch 1/2\n",
      "-------------\n",
      "inputs.size: torch.Size([2, 5, 3, 120, 120])\n",
      " after view inputs.size: torch.Size([10, 3, 120, 120])\n"
     ]
    },
    {
     "name": "stderr",
     "output_type": "stream",
     "text": [
      "100%|██████████| 1/1 [00:00<00:00,  2.37it/s]\n",
      "  0%|          | 0/1 [00:00<?, ?it/s]"
     ]
    },
    {
     "name": "stdout",
     "output_type": "stream",
     "text": [
      "val Loss: 3.8414 Acc: 0.5000\n",
      "Epoch 2/2\n",
      "-------------\n"
     ]
    },
    {
     "name": "stderr",
     "output_type": "stream",
     "text": [
      "100%|██████████| 1/1 [00:01<00:00,  1.16s/it]\n",
      "  0%|          | 0/1 [00:00<?, ?it/s]"
     ]
    },
    {
     "name": "stdout",
     "output_type": "stream",
     "text": [
      "train Loss: 0.7402 Acc: 0.5000\n",
      "inputs.size: torch.Size([2, 5, 3, 120, 120])\n",
      " after view inputs.size: torch.Size([10, 3, 120, 120])\n"
     ]
    },
    {
     "name": "stderr",
     "output_type": "stream",
     "text": [
      "100%|██████████| 1/1 [00:00<00:00,  3.24it/s]"
     ]
    },
    {
     "name": "stdout",
     "output_type": "stream",
     "text": [
      "val Loss: 3.7880 Acc: 0.5000\n"
     ]
    },
    {
     "name": "stderr",
     "output_type": "stream",
     "text": [
      "\n"
     ]
    }
   ],
   "source": [
    "# 乱数のシードを設定\n",
    "torch.manual_seed(1234)\n",
    "np.random.seed(1234)\n",
    "random.seed(1234)\n",
    "#グローバル変数の初期化\n",
    "with open('./config.yaml') as f:\n",
    "    config = yaml.load(f)\n",
    "    \n",
    "dataloaders_dict = make_dataLoader() #trainとvalのデータ整形\n",
    "    \n",
    "net,optimizer = finetune_resnet18()\n",
    "criterion = nn.CrossEntropyLoss()  # 損失関数の設定\n",
    "# 学習・検証を実行する\n",
    "num_epochs = config[\"MODEL\"][\"EPOCH\"]\n",
    "train_loss_list, train_acc_list, val_loss_list, val_acc_list = do_train(net, dataloaders_dict, criterion, optimizer, num_epochs=num_epochs)"
   ]
  },
  {
   "cell_type": "markdown",
   "metadata": {},
   "source": [
    "### 学習の可視化"
   ]
  },
  {
   "cell_type": "code",
   "execution_count": 16,
   "metadata": {},
   "outputs": [
    {
     "data": {
      "image/png": "[encoded data removed]",
      "text/plain": [
       "<Figure size 432x288 with 1 Axes>"
      ]
     },
     "metadata": {
      "needs_background": "light"
     },
     "output_type": "display_data"
    },
    {
     "data": {
      "image/png": "[encoded data removed]",
      "text/plain": [
       "<Figure size 432x288 with 1 Axes>"
      ]
     },
     "metadata": {
      "needs_background": "light"
     },
     "output_type": "display_data"
    }
   ],
   "source": [
    "import matplotlib.pyplot as plt\n",
    "%matplotlib inline\n",
    "# 学習・検証の可視化関数\n",
    "def plot_history(train_list, val_list, mode):\n",
    "    plt.plot(train_list, label=f\"{mode} for training\")\n",
    "    plt.plot(val_list, label=f\"{mode} for validation\")\n",
    "    \n",
    "    #matplotlibの細かい設定\n",
    "    plt.title(f\"{mode}\")\n",
    "    plt.xlabel(\"epoch\")\n",
    "    plt.ylabel(f\"{mode}\")\n",
    "    plt.legend(loc='best')\n",
    "    \n",
    "    plt.show()    \n",
    "\n",
    "# loss\n",
    "plot_history(train_loss_list, val_loss_list, mode=\"loss\")\n",
    "# acc\n",
    "plot_history(train_acc_list, val_acc_list, mode=\"accuracy\")"
   ]
  },
  {
   "cell_type": "code",
   "execution_count": null,
   "metadata": {
    "colab": {
     "base_uri": "https://localhost:8080/",
     "height": 1000
    },
    "colab_type": "code",
    "id": "TUn9ZYhQpOnA",
    "outputId": "8c8db127-a834-4993-e142-5867ad8c695b"
   },
   "outputs": [],
   "source": [
    "def do_test(dataloaders_dict):\n",
    "    with open(\"./config.yaml\") as f:\n",
    "        config = yaml.load(f)\n",
    "        num_classes= len(config['CLASS_NAMES'].split())\n",
    "    # 以下は学習にしようするモデルによって修正する必要あり\n",
    "    net = finetune_resnet18\n",
    "    net.fc = nn.Linear(in_features=512, out_features=num_classes)\n",
    "\n",
    "    net_weights = torch.load(config[\"MODEL\"][\"SAVE_WEIGHT\"], map_location={'cuda': 'cpu'})\n",
    "    \n",
    "    from collections import OrderedDict\n",
    "    new_state_dict = OrderedDict()\n",
    "\n",
    "    for k, v in net_weights.items():\n",
    "        new_state_dict[k]=v\n",
    "\n",
    "    net.load_state_dict(new_state_dict)\n",
    "    \n",
    "    net.eval()\n",
    "    \n",
    "    Y,pred = [], []\n",
    "    for inputs, labels in tqdm(dataloaders_dict[\"test\"]):\n",
    "        outputs = net(inputs)\n",
    "        pred += [int(l.argmax()) for l in outputs]\n",
    "        Y += [int(l) for l in labels]\n",
    "    \n",
    "    print(classification_report(Y, pred))\n",
    "    print(\"outputs:\", outputs)"
   ]
  }
 ],
 "metadata": {
  "accelerator": "GPU",
  "colab": {
   "name": "garlic_train_gpu.ipynb",
   "provenance": [],
   "toc_visible": true
  },
  "kernelspec": {
   "display_name": "Python 3",
   "language": "python",
   "name": "python3"
  },
  "language_info": {
   "codemirror_mode": {
    "name": "ipython",
    "version": 3
   },
   "file_extension": ".py",
   "mimetype": "text/x-python",
   "name": "python",
   "nbconvert_exporter": "python",
   "pygments_lexer": "ipython3",
   "version": "3.7.1"
  }
 },
 "nbformat": 4,
 "nbformat_minor": 1
}
